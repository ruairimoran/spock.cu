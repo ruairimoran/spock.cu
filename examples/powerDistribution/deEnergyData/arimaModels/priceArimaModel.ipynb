{
 "cells": [
  {
   "cell_type": "markdown",
   "id": "7b0d1e15",
   "metadata": {},
   "source": [
    "# SARIMA forecast models"
   ]
  },
  {
   "cell_type": "code",
   "execution_count": null,
   "id": "22d2160c",
   "metadata": {},
   "outputs": [],
   "source": [
    "import numpy as np\n",
    "import pandas as pd\n",
    "from matplotlib import pyplot as plt\n",
    "from statsmodels.graphics.tsaplots import plot_acf\n",
    "from statsmodels.tsa.arima.model import ARIMA\n",
    "import os\n",
    "# %matplotlib ipympl"
   ]
  },
  {
   "cell_type": "markdown",
   "id": "bdbdb9ee",
   "metadata": {},
   "source": [
    "## Preliminaries\n",
    "### Load data into numpy arrays"
   ]
  },
  {
   "cell_type": "code",
   "execution_count": null,
   "id": "6994d464",
   "metadata": {},
   "outputs": [],
   "source": [
    "path = os.getcwd()\n",
    "path = os.path.join(path, \"priceData2019To2024.csv\")\n",
    "price_df = pd.read_csv(path, sep=\";\")\n",
    "price_df.columns = price_df.columns.str.strip()\n",
    "price_df[\"time\"] = pd.to_datetime(price_df[\"Datum\"] + \" \" + price_df[\"von\"], format=\"%d.%m.%Y %H:%M\")\n",
    "start_time = price_df[\"time\"].min()\n",
    "price_df[\"hours\"] = (price_df[\"time\"] - start_time).dt.total_seconds() / 60 / 60  # time in hours since beginning of file\n",
    "price_df[\"price\"] = price_df[\"Spotmarktpreis in ct/kWh\"]\n",
    "valid_rows = price_df[np.isfinite(price_df[\"price\"])]\n",
    "TIME = np.array(valid_rows[\"hours\"].tolist())\n",
    "PRICE = np.array(valid_rows[\"price\"].tolist())"
   ]
  },
  {
   "cell_type": "markdown",
   "id": "fe10d187",
   "metadata": {},
   "source": [
    "### Split into training and test data"
   ]
  },
  {
   "cell_type": "code",
   "execution_count": null,
   "id": "ea983885",
   "metadata": {},
   "outputs": [],
   "source": [
    "SAMPLES_PER_DAY = 24\n",
    "PREDICTION_HORIZON = 24\n",
    "\n",
    "# Test data\n",
    "nTestSamples = int(366 * SAMPLES_PER_DAY)  # 2024 was a leap year\n",
    "testData = PRICE[-nTestSamples:]\n",
    "testTime = TIME[-nTestSamples:]\n",
    "\n",
    "# Training data\n",
    "nTrainingSamples = PRICE.size - nTestSamples\n",
    "trainingData = PRICE[:nTrainingSamples]\n",
    "trainingTime = TIME[:nTrainingSamples]  # 1 hour sampling time"
   ]
  },
  {
   "cell_type": "markdown",
   "id": "59dfc5c8",
   "metadata": {},
   "source": [
    "### Plot data"
   ]
  },
  {
   "cell_type": "code",
   "execution_count": null,
   "id": "444ea867",
   "metadata": {},
   "outputs": [],
   "source": [
    "figure = plt.figure()\n",
    "plt.plot(trainingTime, trainingData, label=\"Training data\")\n",
    "plt.plot(testTime, testData, label=\"Test data\")\n",
    "plt.xlabel(\"Time [hours]\")\n",
    "plt.ylabel(\"Price [cts/kWh]\")\n",
    "plt.legend()"
   ]
  },
  {
   "cell_type": "markdown",
   "id": "2321aa4f",
   "metadata": {},
   "source": [
    "### Plot autocorrelation"
   ]
  },
  {
   "cell_type": "code",
   "execution_count": null,
   "id": "871774dc",
   "metadata": {},
   "outputs": [],
   "source": [
    "acf_size = SAMPLES_PER_DAY * 10\n",
    "plot_acf(trainingData, lags=np.arange(acf_size))\n",
    "pass  # this line stops duplicated plots in output\n"
   ]
  },
  {
   "cell_type": "markdown",
   "id": "62069b5f",
   "metadata": {},
   "source": [
    "### Define function for plotting forecast results"
   ]
  },
  {
   "cell_type": "code",
   "execution_count": null,
   "id": "ea4b07d1",
   "metadata": {},
   "outputs": [],
   "source": [
    "def fitAndPlotForecast(\n",
    "    trainingData,\n",
    "    trainingTime,\n",
    "    testData,\n",
    "    testTime,\n",
    "    arimaModel,\n",
    "    title=\"Forecast\",\n",
    "    ylabel=\"Price [cts/kWh]\",\n",
    "):\n",
    "    n_hist = SAMPLES_PER_DAY * 10\n",
    "    n_pred = PREDICTION_HORIZON * 2\n",
    "\n",
    "    trainedArimaModel = arimaModel.fit(method=\"innovations_mle\")\n",
    "    forecast = trainedArimaModel.get_forecast(n_pred)\n",
    "\n",
    "    pastTime = trainingTime[-n_hist:]\n",
    "    pastData = trainingData[-n_hist:]\n",
    "    futureTime = testTime[0:n_pred]\n",
    "    futureData = testData[0:n_pred]\n",
    "\n",
    "    figure = plt.figure()\n",
    "    plt.title(title)\n",
    "    plt.plot(pastTime, pastData, label=\"Known past\")\n",
    "    plt.plot(futureTime, forecast.predicted_mean, label=\"Nominal forecast\")\n",
    "    plt.plot(futureTime, futureData, label=\"Unknown future\")\n",
    "    plt.legend()\n",
    "    plt.xlabel(\"Time [hours]\")\n",
    "    plt.ylabel(ylabel)\n",
    "\n",
    "    print(trainedArimaModel.summary())\n",
    "\n",
    "    return trainedArimaModel"
   ]
  },
  {
   "cell_type": "markdown",
   "id": "415fc389",
   "metadata": {},
   "source": [
    "# Forecasting"
   ]
  },
  {
   "cell_type": "markdown",
   "id": "391344a7",
   "metadata": {},
   "source": [
    "## Persistence forecast"
   ]
  },
  {
   "cell_type": "code",
   "execution_count": null,
   "id": "77e71c97",
   "metadata": {},
   "outputs": [],
   "source": [
    "arima010 = ARIMA(endog=trainingData, order=(0, 1, 0), trend=\"n\")\n",
    "trainedArima010 = fitAndPlotForecast(\n",
    "    trainingData,\n",
    "    trainingTime,\n",
    "    testData,\n",
    "    testTime,\n",
    "    arima010,\n",
    "    title=\"Persistence forecast\",\n",
    ")"
   ]
  },
  {
   "cell_type": "code",
   "execution_count": null,
   "id": "1b16899f",
   "metadata": {},
   "outputs": [],
   "source": [
    "plot_acf(trainedArima010.resid, lags=np.arange(acf_size), title=\"Persistence model\")\n",
    "pass  # this line stops duplicated plots in output"
   ]
  },
  {
   "cell_type": "markdown",
   "id": "b5851049",
   "metadata": {},
   "source": [
    "## Seasonal persistence forecast"
   ]
  },
  {
   "cell_type": "code",
   "execution_count": null,
   "id": "700cecd9",
   "metadata": {},
   "outputs": [],
   "source": [
    "s = 24  # set the seasonal period"
   ]
  },
  {
   "cell_type": "markdown",
   "id": "d1d379de",
   "metadata": {},
   "source": [
    "### ARIMA(0, 0, 0)(0, 1, 0)<sub>s</sub> without trend"
   ]
  },
  {
   "cell_type": "code",
   "execution_count": null,
   "id": "0e5cebc0",
   "metadata": {},
   "outputs": [],
   "source": [
    "arima000010s = ARIMA(\n",
    "    endog=trainingData, order=(0, 0, 0), seasonal_order=(0, 1, 0, s), trend=\"n\"\n",
    ")\n",
    "trainedArima000010s = fitAndPlotForecast(\n",
    "    trainingData,\n",
    "    trainingTime,\n",
    "    testData,\n",
    "    testTime,\n",
    "    arima000010s,\n",
    "    title=f\"ARIMA$(0, 0, 0)(0, 1, 0)_{{{s}}}$\",\n",
    ")"
   ]
  },
  {
   "cell_type": "code",
   "execution_count": null,
   "id": "4f77ff3d",
   "metadata": {},
   "outputs": [],
   "source": [
    "plot_acf(trainedArima000010s.resid, lags=np.arange(acf_size), title=\"Seasonal persistence model without trend\")\n",
    "pass  # this line stops duplicated plots in output"
   ]
  },
  {
   "cell_type": "markdown",
   "id": "a247e2cf",
   "metadata": {},
   "source": [
    "### ARIMA(1, 0, 0)(1, 1, 1)<sub>s</sub> model"
   ]
  },
  {
   "cell_type": "code",
   "execution_count": null,
   "id": "1f9603bc",
   "metadata": {},
   "outputs": [],
   "source": [
    "arima100111s = ARIMA(\n",
    "    endog=trainingData, order=(1, 0, 0), seasonal_order=(1, 1, 1, s), trend=\"t\"\n",
    ")\n",
    "trainedArima100111s = fitAndPlotForecast(\n",
    "    trainingData,\n",
    "    trainingTime,\n",
    "    testData,\n",
    "    testTime,\n",
    "    arima100111s,\n",
    "    title=f\"ARIMA$(1, 0, 0)(1, 1, 1)_{{{s}}}$\",\n",
    ")"
   ]
  },
  {
   "cell_type": "code",
   "execution_count": null,
   "id": "3a966203",
   "metadata": {},
   "outputs": [],
   "source": [
    "plot_acf(trainedArima100111s.resid, lags=np.arange(acf_size))\n",
    "pass  # this line stops duplicated plots in output"
   ]
  },
  {
   "cell_type": "markdown",
   "id": "e2035d9f",
   "metadata": {},
   "source": [
    "### ARIMA(0, 0, 0)(3, 0, 0)<sub>s</sub> with trend and exogenous inputs"
   ]
  },
  {
   "cell_type": "code",
   "execution_count": null,
   "id": "239671d4",
   "metadata": {},
   "outputs": [],
   "source": [
    "def create_lagged_features(y, lags):\n",
    "    x = np.column_stack([np.roll(y, lag) for lag in lags])\n",
    "    x[:max(lags), :] = np.nan  # Set NaNs for the first rows\n",
    "    return x\n",
    "\n",
    "\n",
    "# Define lags\n",
    "lags = [s, s * 7]  # Use only these specific lags\n",
    "\n",
    "# Generate lagged features\n",
    "x_lagged = create_lagged_features(trainingData, lags)\n",
    "\n",
    "# Remove NaN rows caused by shifting\n",
    "valid_idx = max(lags)\n",
    "y_valid = trainingData[valid_idx:]\n",
    "x_valid = x_lagged[valid_idx:, :]\n",
    "\n",
    "# Define ARIMA model with exogenous regressors\n",
    "arimaExog = ARIMA(endog=y_valid, order=(3, 0, 0), exog=x_valid, trend=\"t\")\n",
    "trainedArimaExog = arimaExog.fit()"
   ]
  },
  {
   "cell_type": "code",
   "execution_count": null,
   "id": "c5323f10",
   "metadata": {},
   "outputs": [],
   "source": [
    "plot_acf(trainedArimaExog.resid, lags=np.arange(acf_size), title=\"Seasonal persistence model with trend and exog inputs\")\n",
    "pass  # this line stops duplicated plots in output"
   ]
  },
  {
   "cell_type": "markdown",
   "id": "78ce38de",
   "metadata": {},
   "source": [
    "### ARIMA(3, 0, 0)(1, 1, 1)<sub>s</sub> model"
   ]
  },
  {
   "cell_type": "code",
   "execution_count": null,
   "id": "00e5d836",
   "metadata": {},
   "outputs": [],
   "source": [
    "arima300111s = ARIMA(\n",
    "    endog=trainingData, order=(3, 0, 0), seasonal_order=(1, 1, 1, s), trend=\"t\"\n",
    ")\n",
    "trainedArima300111s = fitAndPlotForecast(\n",
    "    trainingData,\n",
    "    trainingTime,\n",
    "    testData,\n",
    "    testTime,\n",
    "    arima300111s,\n",
    "    title=f\"ARIMA$(3, 0, 0)(1, 1, 1)_{{{s}}}$\",\n",
    ")"
   ]
  },
  {
   "cell_type": "code",
   "execution_count": null,
   "id": "e7d87346",
   "metadata": {},
   "outputs": [],
   "source": [
    "plot_acf(trainedArima300111s.resid, lags=np.arange(acf_size))\n",
    "pass  # this line stops duplicated plots in output"
   ]
  },
  {
   "cell_type": "markdown",
   "id": "76025451",
   "metadata": {},
   "source": [
    "# Out-of-sample analysis"
   ]
  },
  {
   "cell_type": "markdown",
   "id": "71aea0fc",
   "metadata": {},
   "source": [
    "### Define function for Prediction-Root-Mean-Square-Error (PRMSE)"
   ]
  },
  {
   "cell_type": "code",
   "execution_count": null,
   "id": "fe0573c2",
   "metadata": {},
   "outputs": [],
   "source": [
    "def calculate_prmse(\n",
    "        trainedModel, testData, nTestSamples, forecastHorizon, exog=False\n",
    "    ):\n",
    "    prmse = np.zeros(nTestSamples)\n",
    "    \n",
    "    for k in range(nTestSamples):\n",
    "        # Select the exogenous inputs for forecasting\n",
    "        exog_forecast = None\n",
    "        if exog:\n",
    "            t = k + nTrainingSamples\n",
    "            lag_s = PRICE[t-s:t].reshape(-1, 1)\n",
    "            lag_168 = PRICE[t-168:t-168+s].reshape(-1, 1)\n",
    "            exog_forecast = np.column_stack([lag_s, lag_168])\n",
    "\n",
    "        # Forecast using exogenous variables\n",
    "        forecast = trainedModel.forecast(forecastHorizon, exog=exog_forecast)\n",
    "        actual = testData[k: k + forecastHorizon]\n",
    "        error = actual - forecast\n",
    "        prmse[k] = np.sqrt(np.mean(error**2))\n",
    "\n",
    "        # Extend model with new observation and corresponding exogenous inputs\n",
    "        exog_update = None\n",
    "        if exog:\n",
    "            exog_update = exog_forecast[0, :].reshape(1, -1)\n",
    "        trainedModel = trainedModel.extend(testData[k][None], exog=exog_update)\n",
    "\n",
    "    return prmse\n"
   ]
  },
  {
   "cell_type": "markdown",
   "id": "3b9d4ecc",
   "metadata": {},
   "source": [
    "### Compute PRMSEs"
   ]
  },
  {
   "cell_type": "code",
   "execution_count": null,
   "id": "0a5d0ca4",
   "metadata": {},
   "outputs": [],
   "source": [
    "nTest = nTestSamples - PREDICTION_HORIZON\n",
    "prmseArima010 =     calculate_prmse(trainedArima010,     testData, nTest, PREDICTION_HORIZON)\n",
    "prmseArima000010s = calculate_prmse(trainedArima000010s, testData, nTest, PREDICTION_HORIZON)\n",
    "prmseArima100111s = calculate_prmse(trainedArima100111s, testData, nTest, PREDICTION_HORIZON)\n",
    "prmseArimaExog =    calculate_prmse(trainedArimaExog,    testData, nTest, PREDICTION_HORIZON, exog=True)\n",
    "prmseArima300111s = calculate_prmse(trainedArima300111s, testData, nTest, PREDICTION_HORIZON)"
   ]
  },
  {
   "cell_type": "markdown",
   "id": "53f1c1eb",
   "metadata": {},
   "source": [
    "### Compare model box plots"
   ]
  },
  {
   "cell_type": "code",
   "execution_count": null,
   "id": "23096d0b",
   "metadata": {},
   "outputs": [],
   "source": [
    "prmse = [\n",
    "    prmseArima010,\n",
    "    prmseArima000010s,\n",
    "    prmseArima100111s,\n",
    "    prmseArimaExog,\n",
    "    prmseArima300111s,\n",
    "]\n",
    "fig, ax = plt.subplots()\n",
    "bp = ax.boxplot(prmse, vert=False, medianprops=dict(color=\"firebrick\"))\n",
    "plt.yticks(\n",
    "    [1, 2, 3, 4, 5],\n",
    "    [\n",
    "        \"$(010)$\",\n",
    "        f\"$(000)(010)_{{{s}}}$\",\n",
    "        f\"$(100)(111)_{{{s}}}$\",\n",
    "        f\"$(300)$ exog\",\n",
    "        f\"$(300)(111)_{{{s}}}$\",\n",
    "    ],\n",
    ")\n",
    "plt.yticks(rotation=60)\n",
    "plt.xlabel(\"PRMSE [pu]\")\n",
    "mean = np.mean(prmse, axis=1)\n",
    "for i, line in enumerate(bp[\"medians\"]):\n",
    "    x, y = line.get_xydata()[1]\n",
    "    text = \"μ={:.4f}\".format(mean[i])\n",
    "    ax.annotate(text, xy=(x - 0.02, y + 0.07), color=\"firebrick\")"
   ]
  },
  {
   "cell_type": "markdown",
   "id": "8e06eee0",
   "metadata": {},
   "source": [
    "# Generate forecast and save to csv"
   ]
  },
  {
   "cell_type": "code",
   "execution_count": null,
   "id": "f75b09fb",
   "metadata": {},
   "outputs": [],
   "source": [
    "def save_forecast(trainedModel, testData, nTest, nTraining, horizon, filename):\n",
    "    with open(filename, \"w\") as f:\n",
    "        f.write(\"dateAndTime;price [ct/kWh]\\n\")\n",
    "    with open(filename, \"a\") as f:\n",
    "        for k in range(nTest):\n",
    "            forecast = trainedModel.forecast(horizon)\n",
    "            timestamp = price_df[\"time\"][nTraining + k]\n",
    "            f.write(f\"{timestamp};{forecast[0]:.4f}\\n\")\n",
    "            trainedModel = trainedModel.extend(testData[k][None])\n",
    "\n",
    "\n",
    "path = os.path.abspath(os.path.join(os.getcwd(), os.pardir))\n",
    "path = os.path.join(path, \"priceForecast.csv\")\n",
    "save_forecast(trainedArima300111s, testData, nTestSamples, nTrainingSamples, PREDICTION_HORIZON, path)"
   ]
  },
  {
   "cell_type": "code",
   "execution_count": null,
   "id": "1261b896",
   "metadata": {},
   "outputs": [],
   "source": []
  }
 ],
 "metadata": {
  "kernelspec": {
   "display_name": ".venv",
   "language": "python",
   "name": "python3"
  },
  "language_info": {
   "codemirror_mode": {
    "name": "ipython",
    "version": 3
   },
   "file_extension": ".py",
   "mimetype": "text/x-python",
   "name": "python",
   "nbconvert_exporter": "python",
   "pygments_lexer": "ipython3",
   "version": "3.10.16"
  }
 },
 "nbformat": 4,
 "nbformat_minor": 5
}
