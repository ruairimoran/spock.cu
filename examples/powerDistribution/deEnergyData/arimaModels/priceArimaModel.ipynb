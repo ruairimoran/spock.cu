{
 "cells": [
  {
   "cell_type": "markdown",
   "id": "7b0d1e15",
   "metadata": {},
   "source": [
    "# SARIMA forecast models"
   ]
  },
  {
   "cell_type": "code",
   "execution_count": null,
   "id": "22d2160c",
   "metadata": {},
   "outputs": [],
   "source": [
    "import numpy as np\n",
    "import pandas as pd\n",
    "from matplotlib import pyplot as plt\n",
    "from statsmodels.graphics.tsaplots import plot_acf\n",
    "from statsmodels.tsa.arima.model import ARIMA\n",
    "import os"
   ]
  },
  {
   "cell_type": "markdown",
   "id": "bdbdb9ee",
   "metadata": {},
   "source": [
    "# Pull data and split into training an test data"
   ]
  },
  {
   "cell_type": "code",
   "execution_count": null,
   "id": "6994d464",
   "metadata": {},
   "outputs": [],
   "source": [
    "path = os.getcwd()\n",
    "path = os.path.join(path, \"priceData2019To2024.csv\")\n",
    "price_df = pd.read_csv(path, sep=\";\")\n",
    "price_df.columns = price_df.columns.str.strip()\n",
    "price_df[\"time\"] = pd.to_datetime(price_df[\"Datum\"] + \" \" + price_df[\"von\"], format=\"%d.%m.%Y %H:%M\")\n",
    "start_time = price_df[\"time\"].min()\n",
    "price_df[\"hours\"] = (price_df[\"time\"] - start_time).dt.total_seconds() / 60 / 60\n",
    "price_df[\"price\"] = price_df[\"Spotmarktpreis in ct/kWh\"]\n",
    "\n",
    "valid_rows = price_df[np.isfinite(price_df[\"price\"])]\n",
    "time = np.array(valid_rows[\"hours\"].tolist())\n",
    "price = np.array(valid_rows[\"price\"].tolist())"
   ]
  },
  {
   "cell_type": "code",
   "execution_count": null,
   "id": "ea983885",
   "metadata": {},
   "outputs": [],
   "source": [
    "SAMPLES_PER_DAY = 24\n",
    "PREDICTION_HORIZON = 24\n",
    "\n",
    "# For calculation of PRMSE\n",
    "nTestSamples = int(366 * SAMPLES_PER_DAY)\n",
    "testData = price[-nTestSamples:]\n",
    "testTime = time[-nTestSamples:]\n",
    "\n",
    "# Training Data\n",
    "nTrainingSamples = price.size - nTestSamples\n",
    "trainingData = price[:nTrainingSamples]\n",
    "trainingTime = time[:nTrainingSamples]  # hour sampling time"
   ]
  },
  {
   "cell_type": "code",
   "execution_count": null,
   "id": "444ea867",
   "metadata": {},
   "outputs": [],
   "source": [
    "figure = plt.figure()\n",
    "plt.plot(trainingTime, trainingData, label=\"Training data\")\n",
    "plt.plot(testTime, testData, label=\"Test data\")\n",
    "plt.xlabel(\"Time [quarter hours]\")\n",
    "plt.ylabel(\"Price [€/MWh]\")\n",
    "plt.legend()"
   ]
  },
  {
   "cell_type": "code",
   "execution_count": null,
   "id": "871774dc",
   "metadata": {},
   "outputs": [],
   "source": [
    "acf_size = SAMPLES_PER_DAY * 10\n",
    "plot_acf(trainingData, lags=np.arange(acf_size))"
   ]
  },
  {
   "cell_type": "code",
   "execution_count": null,
   "id": "ea4b07d1",
   "metadata": {},
   "outputs": [],
   "source": [
    "def fitAndPlotForecast(\n",
    "    trainingData,\n",
    "    trainingTime,\n",
    "    testData,\n",
    "    testTime,\n",
    "    arimaModel,\n",
    "    title=\"Forecast\",\n",
    "    ylabel=\"Price [cts/MWh]\",\n",
    "):\n",
    "    n_hist = SAMPLES_PER_DAY * 10\n",
    "    n_pred = PREDICTION_HORIZON * 2\n",
    "\n",
    "    trainedArimaModel = arimaModel.fit(method=\"innovations_mle\")\n",
    "    forecast = trainedArimaModel.get_forecast(n_pred)\n",
    "\n",
    "    pastTime = trainingTime[-n_hist:]\n",
    "    pastData = trainingData[-n_hist:]\n",
    "    futureTime = testTime[0:n_pred]\n",
    "    futureData = testData[0:n_pred]\n",
    "\n",
    "    figure = plt.figure()\n",
    "    plt.title(title)\n",
    "    plt.plot(pastTime, pastData, label=\"Known past\")\n",
    "    plt.plot(futureTime, forecast.predicted_mean, label=\"Nominal forecast\")\n",
    "    plt.plot(futureTime, futureData, label=\"Unknown future\")\n",
    "    plt.legend()\n",
    "    plt.xlabel(\"Time [hours]\")\n",
    "    plt.ylabel(ylabel)\n",
    "\n",
    "    print(trainedArimaModel.summary())\n",
    "\n",
    "    return trainedArimaModel"
   ]
  },
  {
   "cell_type": "markdown",
   "id": "415fc389",
   "metadata": {},
   "source": [
    "# Forecasting"
   ]
  },
  {
   "cell_type": "markdown",
   "id": "391344a7",
   "metadata": {},
   "source": [
    "## Persistence forecast"
   ]
  },
  {
   "cell_type": "code",
   "execution_count": null,
   "id": "77e71c97",
   "metadata": {},
   "outputs": [],
   "source": [
    "arima010 = ARIMA(endog=trainingData, order=(0, 1, 0), trend=\"n\")\n",
    "trainedArima010 = fitAndPlotForecast(\n",
    "    trainingData,\n",
    "    trainingTime,\n",
    "    testData,\n",
    "    testTime,\n",
    "    arima010,\n",
    "    title=\"Persistence forecast\",\n",
    ")"
   ]
  },
  {
   "cell_type": "code",
   "execution_count": null,
   "id": "1b16899f",
   "metadata": {},
   "outputs": [],
   "source": [
    "plot_acf(trainedArima010.resid, lags=np.arange(acf_size), title=\"Persistence model\")"
   ]
  },
  {
   "cell_type": "markdown",
   "id": "d1d379de",
   "metadata": {},
   "source": [
    "## ARIMA(0, 0, 0)(0, 1, 0)<sub>48</sub> without trend (seasonal persistence forecast)"
   ]
  },
  {
   "cell_type": "code",
   "execution_count": null,
   "id": "0e5cebc0",
   "metadata": {},
   "outputs": [],
   "source": [
    "season_periods = 24\n",
    "arima000010s48 = ARIMA(\n",
    "    endog=trainingData, order=(0, 0, 0), seasonal_order=(0, 1, 0, season_periods), trend=\"n\"\n",
    ")\n",
    "trainedArima000010s48 = fitAndPlotForecast(\n",
    "    trainingData,\n",
    "    trainingTime,\n",
    "    testData,\n",
    "    testTime,\n",
    "    arima000010s48,\n",
    "    title=\"ARIMA$(0, 0, 0)(0, 1, 0)_{s}$\",\n",
    ")"
   ]
  },
  {
   "cell_type": "code",
   "execution_count": null,
   "id": "4f77ff3d",
   "metadata": {},
   "outputs": [],
   "source": [
    "plot_acf(trainedArima000010s48.resid, lags=np.arange(acf_size))"
   ]
  },
  {
   "cell_type": "markdown",
   "id": "e2035d9f",
   "metadata": {},
   "source": [
    "## ARIMA(0, 0, 0)(2, 0, 0)<sub>48</sub>"
   ]
  },
  {
   "cell_type": "code",
   "execution_count": null,
   "id": "af00402c",
   "metadata": {},
   "outputs": [],
   "source": [
    "# arima000200s48 = ARIMA(\n",
    "#     endog=trainingData, order=(0, 0, 0), seasonal_order=(7, 0, 0, season_periods), trend=\"t\"\n",
    "# )\n",
    "\n",
    "arima000200s48 = ARIMA(endog=trainingData, order=(2,1,2), seasonal_order=(0,0,0,0), exog=trainingData.shift([24, 168]))\n",
    "result = arima000200s48.fit()\n",
    "# season ([24 and 168])\n",
    "# order ([0, 5], [0, 1], [0, 5])\n",
    "trainedArima000200s48 = fitAndPlotForecast(\n",
    "    trainingData,\n",
    "    trainingTime,\n",
    "    testData,\n",
    "    testTime,\n",
    "    arima000200s48,\n",
    "    title=\"ARIMA$(0, 0, 0)(2, 0, 0)_{s}$\",\n",
    ")"
   ]
  },
  {
   "cell_type": "code",
   "execution_count": null,
   "id": "66331f98",
   "metadata": {},
   "outputs": [],
   "source": [
    "plot_acf(trainedArima000200s48.resid, lags=np.arange(acf_size))"
   ]
  },
  {
   "cell_type": "markdown",
   "id": "ff4ecb11",
   "metadata": {},
   "source": [
    "## ARIMA(1, 0, 0)(2, 0, 0)<sub>48</sub>"
   ]
  },
  {
   "cell_type": "code",
   "execution_count": null,
   "id": "d38d089b",
   "metadata": {},
   "outputs": [],
   "source": [
    "arima100200s48 = ARIMA(\n",
    "    endog=trainingData, order=(1, 0, 0), seasonal_order=(2, 0, 0, season_periods), trend=\"t\"\n",
    ")\n",
    "trainedArima100200s48 = fitAndPlotForecast(\n",
    "    trainingData,\n",
    "    trainingTime,\n",
    "    testData,\n",
    "    testTime,\n",
    "    arima100200s48,\n",
    "    title=\"ARIMA$(1, 0, 0)(2, 0, 0)_{s}$\",\n",
    ")"
   ]
  },
  {
   "cell_type": "code",
   "execution_count": null,
   "id": "94f7b7bd",
   "metadata": {},
   "outputs": [],
   "source": [
    "plot_acf(trainedArima100200s48.resid, lags=np.arange(acf_size))"
   ]
  },
  {
   "cell_type": "markdown",
   "id": "3d529cf6",
   "metadata": {},
   "source": [
    "## ARIMA(0, 0, 0)(0, 0, 1)<sub>48</sub>"
   ]
  },
  {
   "cell_type": "code",
   "execution_count": null,
   "id": "776ad539",
   "metadata": {},
   "outputs": [],
   "source": [
    "arima000001s48 = ARIMA(\n",
    "    endog=trainingData, order=(0, 0, 0), seasonal_order=(0, 0, 1, season_periods), trend=\"t\"\n",
    ")\n",
    "trainedArima000001s48 = fitAndPlotForecast(\n",
    "    trainingData,\n",
    "    trainingTime,\n",
    "    testData,\n",
    "    testTime,\n",
    "    arima000001s48,\n",
    "    title=\"ARIMA$(0, 0, 0)(0, 0, 1)_{s}$\",\n",
    ")"
   ]
  },
  {
   "cell_type": "code",
   "execution_count": null,
   "id": "3748d90b",
   "metadata": {},
   "outputs": [],
   "source": [
    "plot_acf(trainedArima000001s48.resid, lags=np.arange(acf_size))"
   ]
  },
  {
   "cell_type": "markdown",
   "id": "a247e2cf",
   "metadata": {},
   "source": [
    "# Combination into ARIMA model"
   ]
  },
  {
   "cell_type": "code",
   "execution_count": null,
   "id": "1f9603bc",
   "metadata": {},
   "outputs": [],
   "source": [
    "arima100111s48 = ARIMA(\n",
    "    endog=trainingData, order=(1, 0, 0), seasonal_order=(1, 1, 1, season_periods), trend=\"t\"\n",
    ")\n",
    "trainedArima100111s48 = fitAndPlotForecast(\n",
    "    trainingData,\n",
    "    trainingTime,\n",
    "    testData,\n",
    "    testTime,\n",
    "    arima100111s48,\n",
    "    title=\"ARIMA$(1, 0, 0)(1, 1, 1)_{s}$\",\n",
    ")"
   ]
  },
  {
   "cell_type": "code",
   "execution_count": null,
   "id": "3a966203",
   "metadata": {},
   "outputs": [],
   "source": [
    "plot_acf(trainedArima100111s48.resid, lags=np.arange(acf_size))"
   ]
  },
  {
   "cell_type": "markdown",
   "id": "76025451",
   "metadata": {},
   "source": [
    "# Out-of-sample analysis"
   ]
  },
  {
   "cell_type": "markdown",
   "id": "71aea0fc",
   "metadata": {},
   "source": [
    "## Prediction-Root-Mean-Square-Error (PRMSE)"
   ]
  },
  {
   "cell_type": "code",
   "execution_count": null,
   "id": "fe0573c2",
   "metadata": {},
   "outputs": [],
   "source": [
    "def calculatePrmse(\n",
    "    trainedModel, testData, testTime, nTestSamples, forecastHorizon\n",
    "):\n",
    "    prmse = np.zeros(nTestSamples)\n",
    "    for k in range(nTestSamples):\n",
    "        forecast = trainedModel.forecast(forecastHorizon)\n",
    "        actual = testData[k : k + forecastHorizon]\n",
    "        error = actual - forecast\n",
    "        prmse[k] = np.sqrt(1 / forecastHorizon * sum(error**2))\n",
    "        trainedModel = trainedModel.extend(testData[k][None])\n",
    "        currentTime = testTime[k : k + forecastHorizon]\n",
    "    return prmse"
   ]
  },
  {
   "cell_type": "code",
   "execution_count": null,
   "id": "0a5d0ca4",
   "metadata": {},
   "outputs": [],
   "source": [
    "nTest = nTestSamples - PREDICTION_HORIZON\n",
    "prmseArima010 = calculatePrmse(\n",
    "    trainedArima010, testData, testTime, nTest, PREDICTION_HORIZON\n",
    ")\n",
    "prmseArima000010s48 = calculatePrmse(\n",
    "    trainedArima000010s48, testData, testTime, nTest, PREDICTION_HORIZON\n",
    ")\n",
    "prmseArima000200s48 = calculatePrmse(\n",
    "    trainedArima000200s48, testData, testTime, nTest, PREDICTION_HORIZON\n",
    ")\n",
    "prmseArima100200s48 = calculatePrmse(\n",
    "    trainedArima100200s48, testData, testTime, nTest, PREDICTION_HORIZON\n",
    ")\n",
    "prmseArima000001s48 = calculatePrmse(\n",
    "    trainedArima000001s48, testData, testTime, nTest, PREDICTION_HORIZON\n",
    ")\n",
    "prmseArima100111s48 = calculatePrmse(\n",
    "    trainedArima100111s48, testData, testTime, nTest, PREDICTION_HORIZON\n",
    ")"
   ]
  },
  {
   "cell_type": "code",
   "execution_count": null,
   "id": "23096d0b",
   "metadata": {},
   "outputs": [],
   "source": [
    "prmse = [\n",
    "    prmseArima010,\n",
    "    prmseArima000010s48,\n",
    "    prmseArima000200s48,\n",
    "    prmseArima100200s48,\n",
    "    prmseArima000001s48,\n",
    "    prmseArima100111s48,\n",
    "]\n",
    "fig, ax = plt.subplots()\n",
    "bp = ax.boxplot(prmse, vert=False, medianprops=dict(color=\"firebrick\"))\n",
    "plt.yticks(\n",
    "    [1, 2, 3, 4, 5, 6],\n",
    "    [\n",
    "        \"$(010)$\",\n",
    "        \"$(000)(010)_{s}$\",\n",
    "        \"$(000)(200)_{s}$\",\n",
    "        \"$(100)(200)_{s}$\",\n",
    "        \"$(000)(001)_{s}$\",\n",
    "        \"$(100)(111)_{s}$\",\n",
    "    ],\n",
    ")\n",
    "plt.yticks(rotation=60)\n",
    "plt.xlabel(\"PRMSE [pu]\")\n",
    "mean = np.mean(prmse, axis=1)\n",
    "for i, line in enumerate(bp[\"medians\"]):\n",
    "    x, y = line.get_xydata()[1]\n",
    "    text = \"μ={:.4f}\".format(mean[i])\n",
    "    ax.annotate(text, xy=(x - 0.02, y + 0.07), color=\"firebrick\")"
   ]
  },
  {
   "cell_type": "code",
   "execution_count": null,
   "id": "f5fca1b4",
   "metadata": {},
   "outputs": [],
   "source": []
  },
  {
   "cell_type": "code",
   "execution_count": null,
   "id": "3bafcbb3",
   "metadata": {},
   "outputs": [],
   "source": []
  },
  {
   "cell_type": "code",
   "execution_count": null,
   "id": "2a4755a5",
   "metadata": {},
   "outputs": [],
   "source": []
  },
  {
   "cell_type": "code",
   "execution_count": null,
   "id": "9303105d",
   "metadata": {},
   "outputs": [],
   "source": []
  },
  {
   "cell_type": "code",
   "execution_count": null,
   "id": "f75b09fb",
   "metadata": {},
   "outputs": [],
   "source": []
  }
 ],
 "metadata": {
  "kernelspec": {
   "display_name": ".venv",
   "language": "python",
   "name": "python3"
  },
  "language_info": {
   "codemirror_mode": {
    "name": "ipython",
    "version": 3
   },
   "file_extension": ".py",
   "mimetype": "text/x-python",
   "name": "python",
   "nbconvert_exporter": "python",
   "pygments_lexer": "ipython3",
   "version": "3.10.16"
  }
 },
 "nbformat": 4,
 "nbformat_minor": 5
}
